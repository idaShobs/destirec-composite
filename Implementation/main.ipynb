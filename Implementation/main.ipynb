{
 "cells": [
  {
   "cell_type": "code",
   "execution_count": 1,
   "metadata": {},
   "outputs": [],
   "source": [
    "import time, array, random, copy, math\n",
    "import numpy as np\n",
    "import pandas as pd\n",
    "import matplotlib.pyplot as plt\n",
    "%matplotlib inline\n",
    "%config InlineBackend.figure_format = 'retina'\n",
    "plt.rc('text', usetex=True)\n",
    "plt.rc('font', family='serif')\n",
    "plt.rcParams['text.latex.preamble'] ='\\\\usepackage{libertine}\\n\\\\usepackage[utf8]{inputenc}'\n",
    "\n",
    "import seaborn\n",
    "seaborn.set(style='whitegrid')\n",
    "seaborn.set_context('notebook')\n",
    "\n",
    "import PreEmo"
   ]
  },
  {
   "cell_type": "markdown",
   "metadata": {},
   "source": [
    "Assuming given user Input\n",
    "Duration = 5 weeks\n",
    "Budget = 4000\n",
    "Unwanted Regions = [Afghanistan, Pacific]\n",
    "Preference activities = [hiking, beach, watersports, culinary, entertainment]\n",
    "Preferred Travel Months = [apr, may, jun]"
   ]
  },
  {
   "cell_type": "markdown",
   "metadata": {},
   "source": [
    "### Now pre-initialization\n",
    "\n",
    "First we use the similarity metric to get a ranking of regions\n",
    "$$\n",
    "\\begin{align*}\n",
    "sim_{feature} (f_q, f_c) = 1 - \\frac{\\lvert f_q - f_c \\rvert} {max(f_q , f_c)}\n",
    "\\end{align*}\n",
    "$$\n",
    "\n",
    "$$\n",
    "\\begin{align*}\n",
    "\n",
    "similarity (q, c) = \\frac{\\sum_{i=1}^{n} w_i * sim_i(q_i, c_i)} {\\sum_{i=1}^{n} w_i}\n",
    "\\end{align*}\n",
    "$$\n",
    "\n",
    "similarity current region and given input\n",
    "all possible preferences is n\n",
    "f_q = 1\n",
    "f_c = actual score for preference i\n",
    "\n"
   ]
  },
  {
   "cell_type": "markdown",
   "metadata": {},
   "source": [
    "We do a Max Min Normalization of the scores \n",
    "\n",
    "$$\n",
    "\\begin{align*}\n",
    "X_{ij} = \\frac{X_{ij} - X_j^{min}}{X_j^{max}-X_j^{min}}\n",
    "\\end{align*}\n",
    "$$"
   ]
  },
  {
   "cell_type": "code",
   "execution_count": 2,
   "metadata": {},
   "outputs": [],
   "source": [
    "start_df = PreEmo.get_start_df()"
   ]
  },
  {
   "cell_type": "code",
   "execution_count": 3,
   "metadata": {},
   "outputs": [
    {
     "data": {
      "text/plain": [
       "'\\n[\\n    safety from crime,\\n    hiking,\\n    shopping,\\n    jan,\\n    mar\\n]\\n'"
      ]
     },
     "execution_count": 3,
     "metadata": {},
     "output_type": "execute_result"
    }
   ],
   "source": [
    "by_region = start_df.groupby(['Region', 'category', 'month_name'])\n",
    "'''\n",
    "[\n",
    "    safety from crime,\n",
    "    hiking,\n",
    "    shopping,\n",
    "    jan,\n",
    "    mar\n",
    "]\n",
    "'''"
   ]
  },
  {
   "cell_type": "markdown",
   "metadata": {},
   "source": [
    "To do: transform new dataset into compatible array matrix as needed "
   ]
  },
  {
   "cell_type": "markdown",
   "metadata": {},
   "source": [
    "Implementing the Moop Problem"
   ]
  },
  {
   "cell_type": "markdown",
   "metadata": {},
   "source": [
    "$$\n",
    "\\begin{align*}maximize \\qquad  &z_k(x) = \\sum_{i=1}^n x_i\\ s_{ik}, \\hspace{1cm} k = 1,...,p \\\\\n",
    "    subject \\ to \\qquad &\\sum_{i=1}^n x_i d_i  \\leq D \\\\\n",
    "    &\\sum_{i=1}^n x_i\\ b_i \\leq B \\\\\n",
    "    &\\sum_{j \\in N} x_{ij} \\geq 1 \\\\ \n",
    "    &u_i(x_i) \\geq U \\\\\n",
    "    x_i \\in \\{0,1\\}, \\qquad &\\forall \\ 1 \\leq i \\leq n\n",
    "\\end{align*}\n",
    "$$"
   ]
  },
  {
   "cell_type": "code",
   "execution_count": null,
   "metadata": {},
   "outputs": [],
   "source": [
    "\n"
   ]
  }
 ],
 "metadata": {
  "interpreter": {
   "hash": "50c6658cd09fae140e8e3bd9a7daeff79d05fc369fce5f6df965463a3998c04c"
  },
  "kernelspec": {
   "display_name": "Python 3.6.12 64-bit ('myenv': conda)",
   "language": "python",
   "name": "python3"
  },
  "language_info": {
   "codemirror_mode": {
    "name": "ipython",
    "version": 3
   },
   "file_extension": ".py",
   "mimetype": "text/x-python",
   "name": "python",
   "nbconvert_exporter": "python",
   "pygments_lexer": "ipython3",
   "version": "3.9.4"
  },
  "orig_nbformat": 4
 },
 "nbformat": 4,
 "nbformat_minor": 2
}
