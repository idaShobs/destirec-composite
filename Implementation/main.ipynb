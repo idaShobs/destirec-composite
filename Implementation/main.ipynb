{
 "cells": [
  {
   "cell_type": "code",
   "execution_count": 4,
   "metadata": {},
   "outputs": [
    {
     "name": "stdout",
     "output_type": "stream",
     "text": [
      "The autoreload extension is already loaded. To reload it, use:\n",
      "  %reload_ext autoreload\n"
     ]
    }
   ],
   "source": [
    "%load_ext autoreload\n",
    "%autoreload 2\n",
    "import numpy as np\n",
    "import pandas as pd\n",
    "import matplotlib as mpl\n",
    "import matplotlib.pyplot as plt\n",
    "import mpl_toolkits.mplot3d as a3\n",
    "from matplotlib.path import Path\n",
    "import matplotlib.patches as patches\n",
    "import seaborn as sns\n",
    "%matplotlib inline\n",
    "%config InlineBackend.figure_format = 'retina'\n",
    "plt.rc('text', usetex=True)\n",
    "plt.rc('font', family='serif')\n",
    "plt.rcParams['text.latex.preamble'] ='\\\\usepackage{libertine}\\n\\\\usepackage[utf8]{inputenc}'\n",
    "\n",
    "import seaborn\n",
    "seaborn.set(style='whitegrid')\n",
    "seaborn.set_context('notebook')\n",
    "import random\n",
    "import PreEmo\n",
    "import DestiRec\n",
    "\n",
    "from selection import *\n",
    "from deap import algorithms, base, benchmarks, tools, creator\n",
    "import warnings\n",
    "warnings.filterwarnings(\"ignore\", 'This pattern has match groups')\n",
    "warnings.filterwarnings(\"ignore\", 'invalid value encountered in true_divide')\n",
    "warnings.filterwarnings(\"ignore\", 'A class named ')\n",
    "\n",
    "pd.options.mode.chained_assignment = None\n",
    "import evaluation"
   ]
  },
  {
   "cell_type": "markdown",
   "metadata": {},
   "source": [
    "Assuming given user Input\n",
    "Duration = 5 weeks\n",
    "Budget = 4000\n",
    "Unwanted Regions = [Afghanistan, Pacific]\n",
    "Preference activities = [hiking, beach, watersports, culinary, entertainment]\n",
    "Preferred Travel Months = [apr, may, jun]"
   ]
  },
  {
   "cell_type": "markdown",
   "metadata": {},
   "source": [
    "### Now pre-initialization\n",
    "\n",
    "First we use the similarity metric to get a ranking of regions\n",
    "$$\n",
    "\\begin{align*}\n",
    "sim_{feature} (f_q, f_c) = 1 - \\frac{\\lvert f_q - f_c \\rvert} {max(f_q , f_c)}\n",
    "\\end{align*}\n",
    "$$\n",
    "\n",
    "$$\n",
    "\\begin{align*}\n",
    "\n",
    "similarity (q, c) = \\frac{\\sum_{i=1}^{n} w_i * sim_i(q_i, c_i)} {\\sum_{i=1}^{n} w_i}\n",
    "\\end{align*}\n",
    "$$\n",
    "\n",
    "similarity current region and given input\n",
    "all possible preferences is n\n",
    "f_q = 1\n",
    "f_c = actual score for preference i\n",
    "\n"
   ]
  },
  {
   "cell_type": "markdown",
   "metadata": {},
   "source": [
    "We do a Max Min Normalization of the scores \n",
    "\n",
    "$$\n",
    "\\begin{align*}\n",
    "X_{ij} = \\frac{X_{ij} - X_j^{min}}{X_j^{max}-X_j^{min}}\n",
    "\\end{align*}\n",
    "$$"
   ]
  },
  {
   "cell_type": "markdown",
   "metadata": {},
   "source": [
    "Implementing the Moop Problem"
   ]
  },
  {
   "cell_type": "markdown",
   "metadata": {},
   "source": [
    "$$\n",
    "\\begin{align*}maximize \\qquad  &z_k(x) = \\sum_{i=1}^n x_i\\ s_{ik}, \\hspace{1cm} k = 1,...,p \\\\\n",
    "    subject \\ to \\qquad &\\sum_{i=1}^n x_i d_i  \\leq D \\\\\n",
    "    &\\sum_{i=1}^n x_i\\ b_i \\leq B \\\\\n",
    "    &\\sum_{j \\in N} x_{ij} \\geq 1 \\\\ \n",
    "    &g_{il}(x_i) \\leq \\delta,  \\hspace{1cm} \\forall \\ 1 \\leq i < l \\leq n  \\\\\n",
    "    x_i \\in \\{0,1\\}, \\qquad &\\forall \\ 1 \\leq i \\leq n\n",
    "\\end{align*}\n",
    "$$"
   ]
  },
  {
   "cell_type": "markdown",
   "metadata": {},
   "source": [
    "$$ f^\\mathrm{penalty}_i(\\mathbf{x}) = \\Delta_i - w_i d_i(\\mathbf{x}) $$"
   ]
  },
  {
   "cell_type": "markdown",
   "metadata": {},
   "source": [
    "Possible  Categories\n",
    "\n",
    "['oct' 'beach' 'watersports' 'entertainment' 'wintersports' 'culture'\n",
    " 'culinary' 'cities & architecture' 'shopping' 'jan' 'feb' 'mar' 'apr'\n",
    " 'may' 'jun' 'jul' 'aug' 'sep' 'nov' 'dec' 'hiking' 'nature & wildlife'\n",
    " 'Safety from crime' 'Weeks to Lower Quantile' 'Weeks to Upper Quantile'\n",
    " 'average weekly cost']"
   ]
  },
  {
   "cell_type": "code",
   "execution_count": null,
   "metadata": {},
   "outputs": [],
   "source": [
    "evaluation.run()"
   ]
  }
 ],
 "metadata": {
  "interpreter": {
   "hash": "50c6658cd09fae140e8e3bd9a7daeff79d05fc369fce5f6df965463a3998c04c"
  },
  "kernelspec": {
   "display_name": "Python 3.6.12 64-bit ('myenv': conda)",
   "language": "python",
   "name": "python3"
  },
  "language_info": {
   "codemirror_mode": {
    "name": "ipython",
    "version": 3
   },
   "file_extension": ".py",
   "mimetype": "text/x-python",
   "name": "python",
   "nbconvert_exporter": "python",
   "pygments_lexer": "ipython3",
   "version": "3.9.4"
  },
  "orig_nbformat": 4
 },
 "nbformat": 4,
 "nbformat_minor": 2
}
