{
 "cells": [
  {
   "cell_type": "code",
   "execution_count": 1,
   "metadata": {},
   "outputs": [],
   "source": [
    "%load_ext autoreload\n",
    "%autoreload 2\n",
    "import numpy as np\n",
    "import pandas as pd\n",
    "import matplotlib.pyplot as plt\n",
    "import seaborn as sns\n",
    "sns.set(style='whitegrid')\n",
    "sns.set_context('notebook')\n",
    "\n",
    "\n",
    "%matplotlib inline\n",
    "%config InlineBackend.figure_format = 'retina'\n",
    "plt.rc('text', usetex=True)\n",
    "plt.rc('font', family='serif')\n",
    "plt.rcParams['text.latex.preamble'] ='\\\\usepackage{libertine}\\n\\\\usepackage[utf8]{inputenc}'\n",
    "\n",
    "\n",
    "import evaluation\n",
    "from PreEmo import *\n",
    "from DestiRec import *\n",
    "import warnings\n",
    "warnings.filterwarnings(\"ignore\", 'This pattern has match groups')\n",
    "warnings.filterwarnings(\"ignore\", 'invalid value encountered in true_divide')\n",
    "warnings.filterwarnings(\"ignore\", 'A class named ')"
   ]
  },
  {
   "cell_type": "code",
   "execution_count": 2,
   "metadata": {},
   "outputs": [
    {
     "data": {
      "application/json": {
       "Software versions": [
        {
         "module": "Python",
         "version": "3.9.4 64bit [MSC v.1916 64 bit (AMD64)]"
        },
        {
         "module": "IPython",
         "version": "8.1.1"
        },
        {
         "module": "OS",
         "version": "Windows 10 10.0.19041 SP0"
        },
        {
         "module": "numpy",
         "version": "1.22.3"
        },
        {
         "module": "matplotlib",
         "version": "3.5.1"
        },
        {
         "module": "deap",
         "version": "1.3"
        }
       ]
      },
      "text/html": [
       "<table><tr><th>Software</th><th>Version</th></tr><tr><td>Python</td><td>3.9.4 64bit [MSC v.1916 64 bit (AMD64)]</td></tr><tr><td>IPython</td><td>8.1.1</td></tr><tr><td>OS</td><td>Windows 10 10.0.19041 SP0</td></tr><tr><td>numpy</td><td>1.22.3</td></tr><tr><td>matplotlib</td><td>3.5.1</td></tr><tr><td>deap</td><td>1.3</td></tr><tr><td colspan='2'>Sat Apr 23 19:06:33 2022 W. Europe Daylight Time</td></tr></table>"
      ],
      "text/latex": [
       "\\begin{tabular}{|l|l|}\\hline\n",
       "{\\bf Software} & {\\bf Version} \\\\ \\hline\\hline\n",
       "Python & 3.9.4 64bit [MSC v.1916 64 bit (AMD64)] \\\\ \\hline\n",
       "IPython & 8.1.1 \\\\ \\hline\n",
       "OS & Windows 10 10.0.19041 SP0 \\\\ \\hline\n",
       "numpy & 1.22.3 \\\\ \\hline\n",
       "matplotlib & 3.5.1 \\\\ \\hline\n",
       "deap & 1.3 \\\\ \\hline\n",
       "\\hline \\multicolumn{2}{|l|}{Sat Apr 23 19:06:33 2022 W. Europe Daylight Time} \\\\ \\hline\n",
       "\\end{tabular}\n"
      ],
      "text/plain": [
       "Software versions\n",
       "Python 3.9.4 64bit [MSC v.1916 64 bit (AMD64)]\n",
       "IPython 8.1.1\n",
       "OS Windows 10 10.0.19041 SP0\n",
       "numpy 1.22.3\n",
       "matplotlib 3.5.1\n",
       "deap 1.3\n",
       "Sat Apr 23 19:06:33 2022 W. Europe Daylight Time"
      ]
     },
     "execution_count": 2,
     "metadata": {},
     "output_type": "execute_result"
    }
   ],
   "source": [
    "%load_ext version_information \n",
    "%version_information numpy, matplotlib, deap"
   ]
  },
  {
   "cell_type": "markdown",
   "metadata": {},
   "source": [
    "The Moop Problem"
   ]
  },
  {
   "cell_type": "markdown",
   "metadata": {},
   "source": [
    "$$\n",
    "\\begin{align*}maximize \\qquad  &z_k(x) = \\sum_{i=1}^n x_i\\ s_{ik}, \\hspace{1cm} k = 1,...,p \\\\\n",
    "    subject \\ to \\qquad &\\sum_{i=1}^n x_i d_i  \\leq D \\\\\n",
    "    &\\sum_{i=1}^n x_i\\ b_i \\leq B \\\\\n",
    "    &\\sum_{j \\in N} x_{ij} \\geq 1 \\\\ \n",
    "    &g_{il}(x_i) \\leq \\delta,  \\hspace{1cm} \\forall \\ 1 \\leq i < l \\leq n  \\\\\n",
    "    x_i \\in \\{0,1\\}, \\qquad &\\forall \\ 1 \\leq i \\leq n\n",
    "\\end{align*}\n",
    "$$"
   ]
  },
  {
   "cell_type": "markdown",
   "metadata": {},
   "source": [
    "$$ f^\\mathrm{penalty}_i(\\mathbf{x}) = \\Delta_i - w_i d_i(\\mathbf{x}) $$"
   ]
  },
  {
   "cell_type": "markdown",
   "metadata": {},
   "source": [
    "Possible  Categories\n",
    "\n",
    "['oct' 'beach' 'watersports' 'entertainment' 'wintersports' 'culture'\n",
    " 'culinary' 'cities & architecture' 'shopping' 'jan' 'feb' 'mar' 'apr'\n",
    " 'may' 'jun' 'jul' 'aug' 'sep' 'nov' 'dec' 'hiking' 'nature & wildlife'\n",
    " 'Safety from crime' 'Weeks to Lower Quantile' 'Weeks to Upper Quantile'\n",
    " 'average weekly cost']"
   ]
  },
  {
   "cell_type": "code",
   "execution_count": 3,
   "metadata": {},
   "outputs": [],
   "source": [
    "PreEmo.init_logging('../logs/evaluation.log', append=True)\n"
   ]
  },
  {
   "cell_type": "markdown",
   "metadata": {},
   "source": [
    "First we load the config file that stores the user input preference, since we do not have a user interface"
   ]
  },
  {
   "cell_type": "code",
   "execution_count": 4,
   "metadata": {},
   "outputs": [],
   "source": [
    "config = get_config(\"../data/config.yml\")"
   ]
  },
  {
   "cell_type": "markdown",
   "metadata": {},
   "source": [
    "Get the first input scenario that was used for the evaluation"
   ]
  },
  {
   "cell_type": "code",
   "execution_count": 5,
   "metadata": {},
   "outputs": [],
   "source": [
    "user_input = config['input']['input1']"
   ]
  },
  {
   "cell_type": "markdown",
   "metadata": {},
   "source": [
    "We get all the needed dataset using the emo subroutine. \n",
    "It loads all the needed data from the sql database, and transforms it into a pandas table. \n",
    "It uses user preference information to aggregate the data. \n",
    "Start_df is the pandas dataframe. \n",
    "The Start_df has also been saved in path directory as 'Pre_Emo_data.csv'."
   ]
  },
  {
   "cell_type": "code",
   "execution_count": 6,
   "metadata": {},
   "outputs": [],
   "source": [
    "considered, othercategories, needed_months, months_weeks_dict, start_df  = get_dataset(user_input, rank=False)"
   ]
  },
  {
   "cell_type": "code",
   "execution_count": 7,
   "metadata": {},
   "outputs": [
    {
     "data": {
      "text/html": [
       "<div>\n",
       "<style scoped>\n",
       "    .dataframe tbody tr th:only-of-type {\n",
       "        vertical-align: middle;\n",
       "    }\n",
       "\n",
       "    .dataframe tbody tr th {\n",
       "        vertical-align: top;\n",
       "    }\n",
       "\n",
       "    .dataframe thead th {\n",
       "        text-align: right;\n",
       "    }\n",
       "</style>\n",
       "<table border=\"1\" class=\"dataframe\">\n",
       "  <thead>\n",
       "    <tr style=\"text-align: right;\">\n",
       "      <th></th>\n",
       "      <th>Region</th>\n",
       "      <th>category</th>\n",
       "      <th>cat_score</th>\n",
       "      <th>childRegions</th>\n",
       "      <th>RId</th>\n",
       "    </tr>\n",
       "  </thead>\n",
       "  <tbody>\n",
       "    <tr>\n",
       "      <th>3154</th>\n",
       "      <td>Afghanistan</td>\n",
       "      <td>beach</td>\n",
       "      <td>1.0</td>\n",
       "      <td>Afghanistan, Kazakhstan, Kyrgyzstan and Tajiki...</td>\n",
       "      <td>0</td>\n",
       "    </tr>\n",
       "    <tr>\n",
       "      <th>3156</th>\n",
       "      <td>Afghanistan</td>\n",
       "      <td>entertainment</td>\n",
       "      <td>2.0</td>\n",
       "      <td>Afghanistan, Kazakhstan, Kyrgyzstan and Tajiki...</td>\n",
       "      <td>0</td>\n",
       "    </tr>\n",
       "    <tr>\n",
       "      <th>3157</th>\n",
       "      <td>Afghanistan</td>\n",
       "      <td>wintersports</td>\n",
       "      <td>1.0</td>\n",
       "      <td>Afghanistan, Kazakhstan, Kyrgyzstan and Tajiki...</td>\n",
       "      <td>0</td>\n",
       "    </tr>\n",
       "    <tr>\n",
       "      <th>3158</th>\n",
       "      <td>Afghanistan</td>\n",
       "      <td>culture</td>\n",
       "      <td>3.0</td>\n",
       "      <td>Afghanistan, Kazakhstan, Kyrgyzstan and Tajiki...</td>\n",
       "      <td>0</td>\n",
       "    </tr>\n",
       "    <tr>\n",
       "      <th>3172</th>\n",
       "      <td>Afghanistan</td>\n",
       "      <td>nov</td>\n",
       "      <td>3.0</td>\n",
       "      <td>Afghanistan, Kazakhstan, Kyrgyzstan and Tajiki...</td>\n",
       "      <td>0</td>\n",
       "    </tr>\n",
       "  </tbody>\n",
       "</table>\n",
       "</div>"
      ],
      "text/plain": [
       "           Region       category  cat_score  \\\n",
       "3154  Afghanistan          beach        1.0   \n",
       "3156  Afghanistan  entertainment        2.0   \n",
       "3157  Afghanistan   wintersports        1.0   \n",
       "3158  Afghanistan        culture        3.0   \n",
       "3172  Afghanistan            nov        3.0   \n",
       "\n",
       "                                           childRegions  RId  \n",
       "3154  Afghanistan, Kazakhstan, Kyrgyzstan and Tajiki...    0  \n",
       "3156  Afghanistan, Kazakhstan, Kyrgyzstan and Tajiki...    0  \n",
       "3157  Afghanistan, Kazakhstan, Kyrgyzstan and Tajiki...    0  \n",
       "3158  Afghanistan, Kazakhstan, Kyrgyzstan and Tajiki...    0  \n",
       "3172  Afghanistan, Kazakhstan, Kyrgyzstan and Tajiki...    0  "
      ]
     },
     "execution_count": 7,
     "metadata": {},
     "output_type": "execute_result"
    }
   ],
   "source": [
    "start_df.head()"
   ]
  },
  {
   "cell_type": "markdown",
   "metadata": {},
   "source": [
    "Get the regions belonging to same branch in a 'region -> regiongroup' dictionary "
   ]
  },
  {
   "cell_type": "code",
   "execution_count": 8,
   "metadata": {},
   "outputs": [],
   "source": [
    "region_groups = get_region_groups(start_df)"
   ]
  },
  {
   "cell_type": "markdown",
   "metadata": {},
   "source": [
    "Get a dictionary of regionname to region Id, for later use in evolutionary process"
   ]
  },
  {
   "cell_type": "code",
   "execution_count": 9,
   "metadata": {},
   "outputs": [],
   "source": [
    "region_index_info = get_region_index_info(start_df)"
   ]
  },
  {
   "cell_type": "markdown",
   "metadata": {},
   "source": [
    "Now we can initialize the destination recommender class and pass it the needed parameters"
   ]
  },
  {
   "cell_type": "code",
   "execution_count": 10,
   "metadata": {},
   "outputs": [],
   "source": [
    "emo = DestiRec(user_input, considered, othercategories, needed_months, months_weeks_dict, start_df, region_groups, region_index_info)\n"
   ]
  },
  {
   "cell_type": "markdown",
   "metadata": {},
   "source": [
    "We prepare the toolbox configuration for algorithm variant 5, which is our best performing algorithm"
   ]
  },
  {
   "cell_type": "code",
   "execution_count": 11,
   "metadata": {},
   "outputs": [],
   "source": [
    "toolbox = emo.prepare_toolbox(NOBJ=4, \n",
    "                            POP_SIZE=42, \n",
    "                            GEN=120, \n",
    "                            P=12, \n",
    "                            feasibleOnly=True)"
   ]
  },
  {
   "cell_type": "markdown",
   "metadata": {},
   "source": [
    "Finally we run the main routine of the evolutionary algorithm"
   ]
  },
  {
   "cell_type": "code",
   "execution_count": 12,
   "metadata": {},
   "outputs": [
    {
     "name": "stdout",
     "output_type": "stream",
     "text": [
      "gen\tevals\tstd\tmin\tavg\tmaxividual..\n",
      "119\t16   \t[0.49772726 0.49772726 0.48562091 0.48562091]\t[0. 0. 0. 0.]\t[0.54761905 0.45238095 0.38095238 0.61904762]\t[1. 1. 1. 1.]\r"
     ]
    }
   ],
   "source": [
    "population, stats, result, first_front = emo.main(toolbox)"
   ]
  },
  {
   "cell_type": "markdown",
   "metadata": {},
   "source": [
    "Viewing the result inline. Result also stored in result.csv"
   ]
  },
  {
   "cell_type": "code",
   "execution_count": 19,
   "metadata": {},
   "outputs": [
    {
     "data": {
      "text/plain": [
       "[{'EvaluatedRegions': 44,\n",
       "  'EvaluatedCombinations': 307,\n",
       "  'Totaltime': 335.65,\n",
       "  'Input': 0,\n",
       "  'Variant': 0,\n",
       "  'Nrun': 0,\n",
       "  'Score': 31.0,\n",
       "  'Nregions': 2,\n",
       "  'SuggestedRegions': 'Indonesia; Vietnam and Cambodia',\n",
       "  'SuggestedDuration': 'Indonesia; Vietnam and Cambodia-2.0; 1.0',\n",
       "  'SuggestedBudget': 'Indonesia; Vietnam and Cambodia-400.0; 375.0'}]"
      ]
     },
     "execution_count": 19,
     "metadata": {},
     "output_type": "execute_result"
    }
   ],
   "source": [
    "result['results'] "
   ]
  }
 ],
 "metadata": {
  "interpreter": {
   "hash": "50c6658cd09fae140e8e3bd9a7daeff79d05fc369fce5f6df965463a3998c04c"
  },
  "kernelspec": {
   "display_name": "Python 3.6.12 64-bit ('myenv': conda)",
   "language": "python",
   "name": "python3"
  },
  "language_info": {
   "codemirror_mode": {
    "name": "ipython",
    "version": 3
   },
   "file_extension": ".py",
   "mimetype": "text/x-python",
   "name": "python",
   "nbconvert_exporter": "python",
   "pygments_lexer": "ipython3",
   "version": "3.9.4"
  },
  "orig_nbformat": 4
 },
 "nbformat": 4,
 "nbformat_minor": 2
}
